{
 "cells": [
  {
   "attachments": {},
   "cell_type": "markdown",
   "id": "celtic-craps",
   "metadata": {},
   "source": [
    "# Introduction to Decision Making\n",
    "\n",
    "Why look at decision making models:\n",
    "* **Normative** (or prescriptive): make us better at deciding (\"how we **should** make decisions?\")\n",
    "* **Positive** (or descriptive): predict behavior of others (\"how we **do** make decisions?\")\n",
    "\n",
    "Some examples of personal choices where we ask what we **should** do (normative):\n",
    "* School?\n",
    "* Job?\n",
    "* Insurance?\n",
    "* Drive or fly?\n",
    "* Computer?\n",
    "* Investments?\n",
    "* Wedding?\n",
    "* House?\n",
    "\n",
    "Some examples of decision making we might want to describe or predict how people **do** make choices (positive):\n",
    "* Policy choices\n",
    "* Nominations\n",
    "* Platforms\n",
    "* Investments\n",
    "* Technology choice\n",
    "\n",
    "\n",
    "We will look at different types of decision making:\n",
    "* Choices under certainty - non-probabilistic (e.g. multi-criterion decision making)\n",
    "  * Tabular representation\n",
    "  * Spatial representation\n",
    "* Choices under uncertainty - probabilistic (e.g. decision tree analysis)\n",
    "\n",
    "We will also look at **Value of Information** in decision making.\n"
   ]
  }
 ],
 "metadata": {
  "kernelspec": {
   "display_name": "Julia 1.5.3",
   "language": "julia",
   "name": "julia-1.5"
  },
  "language_info": {
   "file_extension": ".jl",
   "mimetype": "application/julia",
   "name": "julia",
   "version": "1.5.3"
  }
 },
 "nbformat": 4,
 "nbformat_minor": 5
}
